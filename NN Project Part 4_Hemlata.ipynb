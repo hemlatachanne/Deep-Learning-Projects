{
 "cells": [
  {
   "cell_type": "markdown",
   "metadata": {},
   "source": [
    "## Neural Network Project Part IV"
   ]
  },
  {
   "cell_type": "code",
   "execution_count": 74,
   "metadata": {},
   "outputs": [],
   "source": [
    "import pandas as pd \n",
    "import numpy as np\n",
    "import matplotlib.pyplot as plt\n",
    "%matplotlib inline\n",
    "from matplotlib import pyplot\n",
    "import seaborn as sns\n",
    "import tensorflow \n",
    "import warnings\n",
    "import os\n",
    "warnings.filterwarnings('ignore')"
   ]
  },
  {
   "cell_type": "code",
   "execution_count": 76,
   "metadata": {},
   "outputs": [
    {
     "data": {
      "text/plain": [
       "<KeysViewHDF5 ['X_test', 'X_train', 'X_val', 'y_test', 'y_train', 'y_val']>"
      ]
     },
     "execution_count": 76,
     "metadata": {},
     "output_type": "execute_result"
    }
   ],
   "source": [
    "import h5py\n",
    "Data = h5py.File('Autonomous_Vehicles_SVHN_single_grey1.h5', 'r')\n",
    "\n",
    "Data.keys()"
   ]
  },
  {
   "cell_type": "code",
   "execution_count": 77,
   "metadata": {},
   "outputs": [],
   "source": [
    "X_train = Data['X_train'][:]\n",
    "y_train = Data['y_train'][:]\n",
    "X_test = Data['X_test'][:]\n",
    "y_test = Data['y_test'][:]"
   ]
  },
  {
   "cell_type": "code",
   "execution_count": 78,
   "metadata": {},
   "outputs": [
    {
     "data": {
      "text/plain": [
       "(42000, 32, 32)"
      ]
     },
     "execution_count": 78,
     "metadata": {},
     "output_type": "execute_result"
    }
   ],
   "source": [
    "X_train.shape"
   ]
  },
  {
   "cell_type": "code",
   "execution_count": 79,
   "metadata": {},
   "outputs": [
    {
     "data": {
      "text/plain": [
       "(18000, 32, 32)"
      ]
     },
     "execution_count": 79,
     "metadata": {},
     "output_type": "execute_result"
    }
   ],
   "source": [
    "X_test.shape"
   ]
  },
  {
   "cell_type": "code",
   "execution_count": 80,
   "metadata": {},
   "outputs": [
    {
     "data": {
      "image/png": "[encoded data removed]",
      "text/plain": [
       "<Figure size 360x72 with 5 Axes>"
      ]
     },
     "metadata": {
      "needs_background": "light"
     },
     "output_type": "display_data"
    },
    {
     "name": "stdout",
     "output_type": "stream",
     "text": [
      "Label for each of the above image: [2 6 7 4 4]\n"
     ]
    }
   ],
   "source": [
    "# visualizing the first 5 images in the dataset and their labels\n",
    "%matplotlib inline\n",
    "import matplotlib.pyplot as plt\n",
    "plt.figure(figsize=(5, 1))\n",
    "for i in range(5):\n",
    "    plt.subplot(1, 5, i+1)\n",
    "    plt.imshow(X_train[i], cmap=\"gray\")\n",
    "    plt.axis('off')\n",
    "plt.show()\n",
    "print('Label for each of the above image: %s' % (y_train[0:5]))"
   ]
  },
  {
   "cell_type": "code",
   "execution_count": 81,
   "metadata": {},
   "outputs": [
    {
     "name": "stdout",
     "output_type": "stream",
     "text": [
      "Resized Training set (42000, 1024, 1) (42000,)\n",
      "Resized Test set (18000, 1024, 1) (18000,)\n"
     ]
    }
   ],
   "source": [
    "X_train = X_train.reshape(X_train.shape[0], 1024, 1)\n",
    "X_test = X_test.reshape(X_test.shape[0], 1024, 1)\n",
    "\n",
    "# # normalize inputs from 0-255 to 0-1\n",
    "X_train = X_train / 255.0\n",
    "X_test = X_test / 255.0\n",
    "\n",
    "print('Resized Training set', X_train.shape, y_train.shape)\n",
    "print('Resized Test set', X_test.shape, y_test.shape)"
   ]
  },
  {
   "cell_type": "code",
   "execution_count": 82,
   "metadata": {},
   "outputs": [
    {
     "name": "stdout",
     "output_type": "stream",
     "text": [
      "The number of classes in this dataset are: 10\n"
     ]
    }
   ],
   "source": [
    "from tensorflow.keras.utils import to_categorical\n",
    "# one hot encode outputs\n",
    "y_train = to_categorical(y_train)\n",
    "y_test = to_categorical(y_test)\n",
    "\n",
    "# no.of classes\n",
    "n = y_test.shape[1] \n",
    "print(\"The number of classes in this dataset are:\",n)"
   ]
  },
  {
   "cell_type": "code",
   "execution_count": 83,
   "metadata": {},
   "outputs": [],
   "source": [
    "from tensorflow.keras import optimizers\n",
    "from tensorflow.keras.models import Sequential\n",
    "from tensorflow.keras.layers import Dense, Flatten\n",
    "\n",
    "# create model\n",
    "model = Sequential()  \n",
    "model.add(Flatten())\n",
    "model.add(Dense(256, activation='relu')) ###Multiple Dense units with Relu activation\n",
    "model.add(Dense(128, activation='relu'))\n",
    "model.add(Dense(64, activation='relu'))\n",
    "model.add(Dense(32, activation='relu'))\n",
    "model.add(Dense(n, activation='softmax'))\n",
    "   "
   ]
  },
  {
   "cell_type": "code",
   "execution_count": 84,
   "metadata": {},
   "outputs": [],
   "source": [
    "sgd = optimizers.Adam(lr=1e-3)\n",
    "model.compile(loss='categorical_crossentropy', optimizer=sgd, metrics=['accuracy'])"
   ]
  },
  {
   "cell_type": "code",
   "execution_count": 85,
   "metadata": {},
   "outputs": [
    {
     "name": "stdout",
     "output_type": "stream",
     "text": [
      "Train on 42000 samples, validate on 18000 samples\n",
      "Epoch 1/5\n",
      " - 3s - loss: 2.2721 - acc: 0.1284 - val_loss: 2.1479 - val_acc: 0.1983\n",
      "Epoch 2/5\n",
      " - 2s - loss: 1.8418 - acc: 0.3356 - val_loss: 1.6320 - val_acc: 0.4308\n",
      "Epoch 3/5\n",
      " - 2s - loss: 1.5127 - acc: 0.4960 - val_loss: 1.3615 - val_acc: 0.5618\n",
      "Epoch 4/5\n",
      " - 3s - loss: 1.3100 - acc: 0.5772 - val_loss: 1.2137 - val_acc: 0.6165\n",
      "Epoch 5/5\n",
      " - 3s - loss: 1.2179 - acc: 0.6114 - val_loss: 1.1752 - val_acc: 0.6315\n"
     ]
    }
   ],
   "source": [
    "training_history = model.fit(X_train, y_train, validation_data=(X_test, y_test), epochs=50, batch_size=200, verbose=2)"
   ]
  },
  {
   "cell_type": "code",
   "execution_count": 86,
   "metadata": {},
   "outputs": [
    {
     "name": "stdout",
     "output_type": "stream",
     "text": [
      "Loss: 1.1751616054111056\n",
      "Accuracy: 0.6315\n"
     ]
    }
   ],
   "source": [
    "scores = model.evaluate(X_test, y_test, verbose=0)\n",
    "print(\"Loss:\", scores[0])\n",
    "print(\"Accuracy:\", scores[1])"
   ]
  },
  {
   "cell_type": "code",
   "execution_count": 87,
   "metadata": {},
   "outputs": [
    {
     "data": {
      "text/plain": [
       "Text(0.5, 1.0, 'Training and validation loss')"
      ]
     },
     "execution_count": 87,
     "metadata": {},
     "output_type": "execute_result"
    },
    {
     "data": {
      "image/png": "[encoded data removed]",
      "text/plain": [
       "<Figure size 432x288 with 1 Axes>"
      ]
     },
     "metadata": {
      "needs_background": "light"
     },
     "output_type": "display_data"
    },
    {
     "data": {
      "image/png": "[encoded data removed]",
      "text/plain": [
       "<Figure size 432x288 with 1 Axes>"
      ]
     },
     "metadata": {
      "needs_background": "light"
     },
     "output_type": "display_data"
    }
   ],
   "source": [
    "accuracy = training_history.history['acc']\n",
    "val_accuracy  = training_history.history['val_acc']\n",
    "loss     = training_history.history['loss']\n",
    "val_loss = training_history.history['val_loss']\n",
    "\n",
    "epochs   = range(len(accuracy)) # Get number of epochs\n",
    "\n",
    "plt.plot  ( epochs, accuracy, label = 'Training accuracy' )\n",
    "plt.plot  ( epochs, val_accuracy, label = 'Validation accuracy' )\n",
    "plt.title ('Training and validation accuracy')\n",
    "plt.legend(loc = 'Lower right')\n",
    "plt.figure()\n",
    "\n",
    "plt.plot  ( epochs, loss, label = 'Training loss' )\n",
    "plt.plot  ( epochs, val_loss, label = 'Validation loss' )\n",
    "plt.legend(loc = 'Upper right')\n",
    "plt.title ('Training and validation loss'   )"
   ]
  },
  {
   "cell_type": "code",
   "execution_count": 88,
   "metadata": {},
   "outputs": [],
   "source": [
    "X_train1 = Data['X_train'][:]\n",
    "y_train1 = Data['y_train'][:]\n",
    "X_test1 = Data['X_test'][:]\n",
    "y_test1 = Data['y_test'][:]"
   ]
  },
  {
   "cell_type": "code",
   "execution_count": 89,
   "metadata": {},
   "outputs": [
    {
     "data": {
      "text/plain": [
       "42000"
      ]
     },
     "execution_count": 89,
     "metadata": {},
     "output_type": "execute_result"
    }
   ],
   "source": [
    "X_train1.shape[0]"
   ]
  },
  {
   "cell_type": "code",
   "execution_count": 90,
   "metadata": {},
   "outputs": [
    {
     "data": {
      "text/plain": [
       "32"
      ]
     },
     "execution_count": 90,
     "metadata": {},
     "output_type": "execute_result"
    }
   ],
   "source": [
    "X_train1.shape[1]"
   ]
  },
  {
   "cell_type": "code",
   "execution_count": 91,
   "metadata": {},
   "outputs": [
    {
     "data": {
      "text/plain": [
       "32"
      ]
     },
     "execution_count": 91,
     "metadata": {},
     "output_type": "execute_result"
    }
   ],
   "source": [
    "X_train1.shape[2]"
   ]
  },
  {
   "cell_type": "code",
   "execution_count": 92,
   "metadata": {},
   "outputs": [
    {
     "name": "stdout",
     "output_type": "stream",
     "text": [
      "Resized Training set (42000, 1024) (42000,)\n",
      "Resized Test set (18000, 1024) (18000,)\n",
      "The number of classes in this dataset are: 10\n"
     ]
    }
   ],
   "source": [
    "X_train1 = X_train1.reshape(X_train.shape[0], 1024)\n",
    "X_test1 = X_test1.reshape(X_test.shape[0], 1024)\n",
    "\n",
    "# # normalize inputs from 0-255 to 0-1\n",
    "X_train1 = X_train1 / 255.0\n",
    "X_test1 = X_test1 / 255.0\n",
    "\n",
    "print('Resized Training set', X_train1.shape, y_train1.shape)\n",
    "print('Resized Test set', X_test1.shape, y_test1.shape)\n",
    "from tensorflow.keras.utils import to_categorical\n",
    "# one hot encode outputs\n",
    "y_train1 = to_categorical(y_train1)\n",
    "y_test1 = to_categorical(y_test1)\n",
    "\n",
    "# no.of classes\n",
    "n = y_test1.shape[1] \n",
    "print(\"The number of classes in this dataset are:\",n)"
   ]
  },
  {
   "cell_type": "code",
   "execution_count": 93,
   "metadata": {},
   "outputs": [],
   "source": [
    "from tensorflow.keras.layers import Dense\n",
    "from tensorflow.keras.layers import BatchNormalization\n",
    "from tensorflow.keras.layers import Dropout\n",
    "from tensorflow.keras.models import Sequential\n",
    "from tensorflow.keras.layers import Flatten, Dense,Activation, ReLU\n",
    "from tensorflow.keras.models import Sequential # Forward prop\n",
    "from tensorflow.keras import regularizers, optimizers\n",
    "def mlp_model():\n",
    "    model_dropout = Sequential()\n",
    "    \n",
    "    \n",
    "    model_dropout.add(Dense(1024, input_dim=1024, kernel_initializer='he_normal'))\n",
    "    model_dropout.add(BatchNormalization())\n",
    "    model_dropout.add(Activation('sigmoid'))\n",
    "    model_dropout.add(Dense(50, kernel_initializer='he_normal'))\n",
    "    model_dropout.add(BatchNormalization())\n",
    "    model_dropout.add(Activation('sigmoid'))    \n",
    "    model_dropout.add(Dense(50, kernel_initializer='he_normal'))\n",
    "    model_dropout.add(BatchNormalization())\n",
    "    model_dropout.add(Activation('sigmoid'))\n",
    "    model_dropout.add(Dense(50, kernel_initializer='he_normal'))\n",
    "    model_dropout.add(BatchNormalization())\n",
    "    model_dropout.add(Activation('relu'))\n",
    "    model_dropout.add(Dropout(0.2))\n",
    "    model_dropout.add(Dense(10, kernel_initializer='he_normal'))\n",
    "    model_dropout.add(Activation('softmax'))\n",
    "    \n",
    "    adam = optimizers.Adam(lr = 0.001)\n",
    "    model_dropout.compile(optimizer = adam, loss = 'categorical_crossentropy', metrics = ['accuracy'])\n",
    "    \n",
    "    return model_dropout"
   ]
  },
  {
   "cell_type": "code",
   "execution_count": null,
   "metadata": {},
   "outputs": [
    {
     "name": "stdout",
     "output_type": "stream",
     "text": [
      "Train on 42000 samples, validate on 18000 samples\n",
      "Epoch 1/10\n",
      "42000/42000 [==============================] - 31s 738us/sample - loss: 1.6196 - acc: 0.4678 - val_loss: 1.4174 - val_acc: 0.5483\n",
      "Epoch 2/10\n",
      "42000/42000 [==============================] - 30s 710us/sample - loss: 1.2502 - acc: 0.6055 - val_loss: 1.2363 - val_acc: 0.5987\n",
      "Epoch 3/10\n",
      "42000/42000 [==============================] - 29s 690us/sample - loss: 1.1510 - acc: 0.6374 - val_loss: 1.6975 - val_acc: 0.4851\n",
      "Epoch 4/10\n",
      "42000/42000 [==============================] - 29s 687us/sample - loss: 1.0883 - acc: 0.6575 - val_loss: 0.9509 - val_acc: 0.7057\n",
      "Epoch 5/10\n",
      "42000/42000 [==============================] - 29s 692us/sample - loss: 1.0320 - acc: 0.6756 - val_loss: 1.1983 - val_acc: 0.6108\n",
      "Epoch 6/10\n",
      "42000/42000 [==============================] - 29s 695us/sample - loss: 0.9768 - acc: 0.6917 - val_loss: 1.0797 - val_acc: 0.6576\n",
      "Epoch 7/10\n",
      "42000/42000 [==============================] - 29s 689us/sample - loss: 0.9502 - acc: 0.7017 - val_loss: 1.0541 - val_acc: 0.6643\n",
      "Epoch 8/10\n",
      "42000/42000 [==============================] - 33s 776us/sample - loss: 0.9162 - acc: 0.7145 - val_loss: 0.8497 - val_acc: 0.7333\n",
      "Epoch 9/10\n",
      "42000/42000 [==============================] - 33s 795us/sample - loss: 0.8903 - acc: 0.7218 - val_loss: 0.8194 - val_acc: 0.7478\n",
      "Epoch 10/10\n",
      "  480/42000 [..............................] - ETA: 32s - loss: 0.9623 - acc: 0.7083"
     ]
    }
   ],
   "source": [
    "model_drp = mlp_model()\n",
    "history = model_drp.fit(X_train1, y_train1, validation_data=(X_test1, y_test1),epochs = 50, verbose = 1)"
   ]
  },
  {
   "cell_type": "code",
   "execution_count": null,
   "metadata": {},
   "outputs": [],
   "source": [
    "results = model_drp.evaluate(X_test1, y_test1)"
   ]
  },
  {
   "cell_type": "code",
   "execution_count": null,
   "metadata": {},
   "outputs": [],
   "source": [
    "train_results = model_drp.evaluate(X_train1, y_train1)"
   ]
  },
  {
   "cell_type": "code",
   "execution_count": null,
   "metadata": {},
   "outputs": [],
   "source": [
    "print('Test accuracy: ', results[1])\n",
    "print(\"Loss:\", results[0])"
   ]
  },
  {
   "cell_type": "code",
   "execution_count": null,
   "metadata": {},
   "outputs": [],
   "source": [
    "model_hist = history\n",
    "accuracy      = model_hist.history['acc']\n",
    "val_accuracy  = model_hist.history['val_acc']\n",
    "loss     = model_hist.history['loss']\n",
    "val_loss = model_hist.history['val_loss']\n",
    "\n",
    "epochs   = range(len(accuracy)) # Get number of epochs\n",
    "\n",
    "plt.plot  ( epochs, accuracy, label = 'training accuracy' )\n",
    "plt.plot  ( epochs, val_accuracy, label = 'validation accuracy' )\n",
    "plt.title ('Training and validation accuracy')\n",
    "plt.legend(loc = 'lower right')\n",
    "plt.figure()\n",
    "\n",
    "plt.plot  ( epochs, loss, label = 'training loss' )\n",
    "plt.plot  ( epochs, val_loss, label = 'validation loss' )\n",
    "plt.legend(loc = 'upper right')\n",
    "plt.title ('Training and validation loss'   )"
   ]
  },
  {
   "cell_type": "code",
   "execution_count": null,
   "metadata": {},
   "outputs": [],
   "source": []
  }
 ],
 "metadata": {
  "kernelspec": {
   "display_name": "Tensorflow-GPU",
   "language": "python",
   "name": "tf-gpu"
  },
  "language_info": {
   "codemirror_mode": {
    "name": "ipython",
    "version": 3
   },
   "file_extension": ".py",
   "mimetype": "text/x-python",
   "name": "python",
   "nbconvert_exporter": "python",
   "pygments_lexer": "ipython3",
   "version": "3.7.3"
  }
 },
 "nbformat": 4,
 "nbformat_minor": 4
}
